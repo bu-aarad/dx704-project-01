{
  "cells": [
    {
      "cell_type": "markdown",
      "metadata": {
        "id": "DDELa7o5UXrY"
      },
      "source": [
        "# DX 704 Week 1 Project\n",
        "\n",
        "This week's project will build a portfolio risk and return model, and make investing recommendations for hypothetical clients.\n",
        "You will collect historical data, estimate returns and risks, construct efficient frontier portfolios, and sanity check the certainty of the maximum return portfolio."
      ]
    },
    {
      "cell_type": "markdown",
      "metadata": {
        "id": "P6SxppNu8p8k"
      },
      "source": [
        "The full project description and a template notebook are available on GitHub at the following link.\n",
        "\n",
        "https://github.com/bu-cds-dx704/dx704-project-01\n"
      ]
    },
    {
      "cell_type": "markdown",
      "metadata": {
        "id": "GmIaQcdCwObV"
      },
      "source": [
        "Feel free to use optimization tools or libraries (such as CVXOPT or scipy.optimize) to perform any calculations required for this mini project."
      ]
    },
    {
      "cell_type": "markdown",
      "metadata": {},
      "source": [
        "### Example Code\n",
        "\n",
        "You may find it helpful to refer to these GitHub repositories of Jupyter notebooks for example code.\n",
        "\n",
        "* https://github.com/bu-cds-omds/dx601-examples\n",
        "* https://github.com/bu-cds-omds/dx602-examples\n",
        "* https://github.com/bu-cds-omds/dx603-examples\n",
        "* https://github.com/bu-cds-omds/dx704-examples\n",
        "\n",
        "Any calculations demonstrated in code examples or videos may be found in these notebooks, and you are allowed to copy this example code in your homework answers."
      ]
    },
    {
      "cell_type": "markdown",
      "metadata": {
        "id": "pv3PslO0V5Lm"
      },
      "source": [
        "## Part 1: Collect Data\n",
        "\n",
        "Collect historical monthly price data for the last 24 months covering 6 different stocks.\n",
        "The data should cover 24 consecutive months including the last month that ended before this week's material was released on Blackboard.\n",
        "To be clear, if a month ends between the Blackboard release and submitting your project, you do not need to add that month.\n",
        "\n",
        "The six different stocks must include AAPL, SPY and TSLA.\n",
        "At least one of the remaining 3 tickers must start with the same letter as your last name (e.g. professor Considine could use COIN).\n",
        "This is to encourage diversity in what stocks you analyze; if you discuss this project with classmates, please make sure that you pick different tickers to differentiate your work.\n",
        "Do not pick stocks with fewer than 24 consecutive months of price data."
      ]
    },
    {
      "cell_type": "code",
      "execution_count": 1,
      "metadata": {
        "id": "6pL-ppubxfvC"
      },
      "outputs": [],
      "source": [
        "# YOUR CHANGES HERE\n",
        "\n",
        "from datetime import datetime\n",
        "import pandas as pd\n",
        "\n",
        "TICKERS = [\"AAPL\",\"MSFT\",\"GOOGL\",\"AMZN\",\"NVDA\",\"META\"]\n",
        "RELEASE_DATE = \"2025-09-01\"\n",
        "\n",
        "import yfinance as yf\n",
        "\n",
        "rel_ts = pd.to_datetime(RELEASE_DATE).normalize()\n",
        "# month end strictly before release date (calendar month end)\n",
        "month_end_before_release = (rel_ts - pd.offsets.MonthBegin(1)) - pd.offsets.Day(1)\n",
        "# fetch a wide window, we'll trim later\n",
        "start = (month_end_before_release - pd.DateOffset(months=36)).normalize()\n",
        "end = rel_ts\n",
        "\n",
        "# Ask yfinance to return prices already adjusted for splits/dividends\n",
        "# -> This means \"Close\" is adjusted close and there is NO \"Adj Close\" column at all.\n",
        "raw = yf.download(\n",
        "    TICKERS,\n",
        "    start=start.strftime(\"%Y-%m-%d\"),\n",
        "    end=end.strftime(\"%Y-%m-%d\"),\n",
        "    auto_adjust=True,           # <-- key change\n",
        "    progress=False,\n",
        "    threads=True\n",
        ")\n",
        "\n",
        "if raw is None or raw.empty:\n",
        "    raise ValueError(\"yfinance returned no data. Check tickers, dates, or network connection.\")\n",
        "\n",
        "# Handle single vs multi-ticker shapes, and drop tickers with all-NaN data\n",
        "if isinstance(raw.columns, pd.MultiIndex):\n",
        "    # Level 0 is field name; Level 1 is ticker\n",
        "    if \"Close\" not in raw.columns.get_level_values(0):\n",
        "        raise KeyError(f\"'Close' not found in columns: {sorted(set(raw.columns.get_level_values(0)))}\")\n",
        "    data = raw[\"Close\"].copy()  # shape: (dates, tickers)\n",
        "else:\n",
        "    # Single ticker → flat columns\n",
        "    if \"Close\" not in raw.columns:\n",
        "        raise KeyError(f\"'Close' not in columns: {list(raw.columns)}\")\n",
        "    # convert to a (dates x tickers) DataFrame\n",
        "    one_ticker_name = TICKERS[0] if len(TICKERS) == 1 else TICKERS[0]\n",
        "    data = raw[[\"Close\"]].rename(columns={\"Close\": one_ticker_name})\n",
        "\n",
        "# Drop columns that are entirely NA (e.g., delisted tickers or bad symbols)\n",
        "data = data.dropna(axis=1, how=\"all\")\n",
        "missing = [t for t in TICKERS if t not in data.columns]\n",
        "if missing:\n",
        "    print(f\"Warning: no data for these tickers and they will be excluded: {missing}\")"
      ]
    },
    {
      "cell_type": "markdown",
      "metadata": {
        "id": "1uH9oDQ1rEQT"
      },
      "source": [
        "Save the data as a TSV file named \"historical_prices.tsv\" and include a header row with the column names \"date\" and the 6 stock ticker symbols.\n",
        "The date should be the last trading day of the month, so it may not be the last day of the month.\n",
        "For example, the last trading day of November 2024 was 2024-11-29.\n",
        "The remaining columns should contain the adjusted closing prices of the corresponding stock tickers on that day.\n"
      ]
    },
    {
      "cell_type": "code",
      "execution_count": 2,
      "metadata": {
        "id": "mHbwKHOhtQ3E"
      },
      "outputs": [
        {
          "name": "stdout",
          "output_type": "stream",
          "text": [
            "Wrote historical_prices.tsv with shape: (24, 7)\n"
          ]
        },
        {
          "name": "stderr",
          "output_type": "stream",
          "text": [
            "/tmp/ipykernel_2292/4021044140.py:7: FutureWarning: 'M' is deprecated and will be removed in a future version, please use 'ME' instead.\n",
            "  monthly_last = data.resample(\"M\").last()\n"
          ]
        },
        {
          "data": {
            "text/html": [
              "<div>\n",
              "<style scoped>\n",
              "    .dataframe tbody tr th:only-of-type {\n",
              "        vertical-align: middle;\n",
              "    }\n",
              "\n",
              "    .dataframe tbody tr th {\n",
              "        vertical-align: top;\n",
              "    }\n",
              "\n",
              "    .dataframe thead th {\n",
              "        text-align: right;\n",
              "    }\n",
              "</style>\n",
              "<table border=\"1\" class=\"dataframe\">\n",
              "  <thead>\n",
              "    <tr style=\"text-align: right;\">\n",
              "      <th>Ticker</th>\n",
              "      <th>date</th>\n",
              "      <th>AAPL</th>\n",
              "      <th>MSFT</th>\n",
              "      <th>GOOGL</th>\n",
              "      <th>AMZN</th>\n",
              "      <th>NVDA</th>\n",
              "      <th>META</th>\n",
              "    </tr>\n",
              "  </thead>\n",
              "  <tbody>\n",
              "    <tr>\n",
              "      <th>0</th>\n",
              "      <td>2023-08-31</td>\n",
              "      <td>186.047653</td>\n",
              "      <td>322.894012</td>\n",
              "      <td>135.358215</td>\n",
              "      <td>138.009995</td>\n",
              "      <td>49.324642</td>\n",
              "      <td>294.275604</td>\n",
              "    </tr>\n",
              "    <tr>\n",
              "      <th>1</th>\n",
              "      <td>2023-09-30</td>\n",
              "      <td>169.549286</td>\n",
              "      <td>311.062317</td>\n",
              "      <td>130.079880</td>\n",
              "      <td>127.120003</td>\n",
              "      <td>43.475826</td>\n",
              "      <td>298.572021</td>\n",
              "    </tr>\n",
              "    <tr>\n",
              "      <th>2</th>\n",
              "      <td>2023-10-31</td>\n",
              "      <td>169.113541</td>\n",
              "      <td>333.090332</td>\n",
              "      <td>123.340286</td>\n",
              "      <td>133.089996</td>\n",
              "      <td>40.758278</td>\n",
              "      <td>299.626221</td>\n",
              "    </tr>\n",
              "    <tr>\n",
              "      <th>3</th>\n",
              "      <td>2023-11-30</td>\n",
              "      <td>188.355301</td>\n",
              "      <td>374.042267</td>\n",
              "      <td>131.739899</td>\n",
              "      <td>146.089996</td>\n",
              "      <td>46.745087</td>\n",
              "      <td>325.365021</td>\n",
              "    </tr>\n",
              "    <tr>\n",
              "      <th>4</th>\n",
              "      <td>2023-12-31</td>\n",
              "      <td>190.913651</td>\n",
              "      <td>371.209106</td>\n",
              "      <td>138.857224</td>\n",
              "      <td>151.940002</td>\n",
              "      <td>49.499973</td>\n",
              "      <td>352.028717</td>\n",
              "    </tr>\n",
              "  </tbody>\n",
              "</table>\n",
              "</div>"
            ],
            "text/plain": [
              "Ticker        date        AAPL        MSFT       GOOGL        AMZN       NVDA  \\\n",
              "0       2023-08-31  186.047653  322.894012  135.358215  138.009995  49.324642   \n",
              "1       2023-09-30  169.549286  311.062317  130.079880  127.120003  43.475826   \n",
              "2       2023-10-31  169.113541  333.090332  123.340286  133.089996  40.758278   \n",
              "3       2023-11-30  188.355301  374.042267  131.739899  146.089996  46.745087   \n",
              "4       2023-12-31  190.913651  371.209106  138.857224  151.940002  49.499973   \n",
              "\n",
              "Ticker        META  \n",
              "0       294.275604  \n",
              "1       298.572021  \n",
              "2       299.626221  \n",
              "3       325.365021  \n",
              "4       352.028717  "
            ]
          },
          "execution_count": 2,
          "metadata": {},
          "output_type": "execute_result"
        }
      ],
      "source": [
        "# YOUR CHANGES HERE\n",
        "\n",
        "# Trim to month strictly before release date\n",
        "data = data.loc[:month_end_before_release]\n",
        "\n",
        "# Take last trading day of each calendar month\n",
        "monthly_last = data.resample(\"M\").last()\n",
        "\n",
        "# Ensure we have at least 24 monthly rows\n",
        "if len(monthly_last) < 24:\n",
        "    raise ValueError(f\"Only {len(monthly_last)} monthly rows available; need >= 24. \"\n",
        "                     f\"Try earlier RELEASE_DATE or different tickers.\")\n",
        "\n",
        "historical_prices = monthly_last.tail(24).copy()\n",
        "historical_prices.index.name = \"date\"\n",
        "historical_prices = historical_prices.reset_index()\n",
        "historical_prices[\"date\"] = pd.to_datetime(historical_prices[\"date\"]).dt.strftime(\"%Y-%m-%d\")\n",
        "\n",
        "# Keep only up to 6 columns actually present (some might be missing)\n",
        "cols = [\"date\"] + [c for c in TICKERS if c in historical_prices.columns]\n",
        "historical_prices = historical_prices[cols]\n",
        "\n",
        "historical_prices.to_csv(\"historical_prices.tsv\", sep=\"\\t\", index=False)\n",
        "print(\"Wrote historical_prices.tsv with shape:\", historical_prices.shape)\n",
        "historical_prices.head()"
      ]
    },
    {
      "cell_type": "markdown",
      "metadata": {
        "id": "2hp0yuXPtT9V"
      },
      "source": [
        "Submit \"historical_prices.tsv\" in Gradescope."
      ]
    },
    {
      "cell_type": "markdown",
      "metadata": {
        "id": "7XdNVWWirUd5"
      },
      "source": [
        "## Part 2: Calculate Historical Asset Returns\n",
        "\n",
        "Calculate the historical asset returns based on the price data that you previously collected."
      ]
    },
    {
      "cell_type": "code",
      "execution_count": 3,
      "metadata": {
        "id": "aL-kVua2xex-"
      },
      "outputs": [],
      "source": [
        "# YOUR CHANGES HERE\n",
        "\n",
        "import pandas as pd\n",
        "\n",
        "prices = pd.read_csv(\"historical_prices.tsv\", sep=\"\\t\", parse_dates=[\"date\"])\n",
        "tickers = [c for c in prices.columns if c != \"date\"]\n",
        "\n",
        "rets = prices.copy()\n",
        "rets[tickers] = prices[tickers].pct_change()\n",
        "rets = rets.dropna().reset_index(drop=True)"
      ]
    },
    {
      "cell_type": "markdown",
      "metadata": {
        "id": "OjhEYCWOrIu3"
      },
      "source": [
        "Save the data as a TSV file named \"historical_returns.tsv\" and include a header row with the column names \"date\" and the 6 stock ticker symbols.\n",
        "Each row should have the date at the end of the month and the corresponding *relative* price changes.\n",
        "For example, if the previous price was \\$100 and the new price is \\$110, the return value should be 0.10.\n",
        "There should only be 23 rows of data in this file, since they are computed as the differences of 24 prices."
      ]
    },
    {
      "cell_type": "code",
      "execution_count": 4,
      "metadata": {
        "id": "cN-7q9QvvyKG"
      },
      "outputs": [
        {
          "name": "stdout",
          "output_type": "stream",
          "text": [
            "Wrote historical_returns.tsv with shape: (23, 7)\n"
          ]
        },
        {
          "data": {
            "text/html": [
              "<div>\n",
              "<style scoped>\n",
              "    .dataframe tbody tr th:only-of-type {\n",
              "        vertical-align: middle;\n",
              "    }\n",
              "\n",
              "    .dataframe tbody tr th {\n",
              "        vertical-align: top;\n",
              "    }\n",
              "\n",
              "    .dataframe thead th {\n",
              "        text-align: right;\n",
              "    }\n",
              "</style>\n",
              "<table border=\"1\" class=\"dataframe\">\n",
              "  <thead>\n",
              "    <tr style=\"text-align: right;\">\n",
              "      <th></th>\n",
              "      <th>date</th>\n",
              "      <th>AAPL</th>\n",
              "      <th>MSFT</th>\n",
              "      <th>GOOGL</th>\n",
              "      <th>AMZN</th>\n",
              "      <th>NVDA</th>\n",
              "      <th>META</th>\n",
              "    </tr>\n",
              "  </thead>\n",
              "  <tbody>\n",
              "    <tr>\n",
              "      <th>0</th>\n",
              "      <td>2023-09-30</td>\n",
              "      <td>-0.088678</td>\n",
              "      <td>-0.036643</td>\n",
              "      <td>-0.038995</td>\n",
              "      <td>-0.078907</td>\n",
              "      <td>-0.118578</td>\n",
              "      <td>0.014600</td>\n",
              "    </tr>\n",
              "    <tr>\n",
              "      <th>1</th>\n",
              "      <td>2023-10-31</td>\n",
              "      <td>-0.002570</td>\n",
              "      <td>0.070815</td>\n",
              "      <td>-0.051811</td>\n",
              "      <td>0.046963</td>\n",
              "      <td>-0.062507</td>\n",
              "      <td>0.003531</td>\n",
              "    </tr>\n",
              "    <tr>\n",
              "      <th>2</th>\n",
              "      <td>2023-11-30</td>\n",
              "      <td>0.113780</td>\n",
              "      <td>0.122945</td>\n",
              "      <td>0.068101</td>\n",
              "      <td>0.097678</td>\n",
              "      <td>0.146886</td>\n",
              "      <td>0.085903</td>\n",
              "    </tr>\n",
              "    <tr>\n",
              "      <th>3</th>\n",
              "      <td>2023-12-31</td>\n",
              "      <td>0.013583</td>\n",
              "      <td>-0.007574</td>\n",
              "      <td>0.054026</td>\n",
              "      <td>0.040044</td>\n",
              "      <td>0.058934</td>\n",
              "      <td>0.081950</td>\n",
              "    </tr>\n",
              "    <tr>\n",
              "      <th>4</th>\n",
              "      <td>2024-01-31</td>\n",
              "      <td>-0.042227</td>\n",
              "      <td>0.057281</td>\n",
              "      <td>0.002935</td>\n",
              "      <td>0.021456</td>\n",
              "      <td>0.242418</td>\n",
              "      <td>0.102215</td>\n",
              "    </tr>\n",
              "  </tbody>\n",
              "</table>\n",
              "</div>"
            ],
            "text/plain": [
              "         date      AAPL      MSFT     GOOGL      AMZN      NVDA      META\n",
              "0  2023-09-30 -0.088678 -0.036643 -0.038995 -0.078907 -0.118578  0.014600\n",
              "1  2023-10-31 -0.002570  0.070815 -0.051811  0.046963 -0.062507  0.003531\n",
              "2  2023-11-30  0.113780  0.122945  0.068101  0.097678  0.146886  0.085903\n",
              "3  2023-12-31  0.013583 -0.007574  0.054026  0.040044  0.058934  0.081950\n",
              "4  2024-01-31 -0.042227  0.057281  0.002935  0.021456  0.242418  0.102215"
            ]
          },
          "execution_count": 4,
          "metadata": {},
          "output_type": "execute_result"
        }
      ],
      "source": [
        "# YOUR CHANGES HERE\n",
        "\n",
        "rets[\"date\"] = rets[\"date\"].dt.strftime(\"%Y-%m-%d\")\n",
        "rets.to_csv(\"historical_returns.tsv\", sep=\"\\t\", index=False)\n",
        "print(\"Wrote historical_returns.tsv with shape:\", rets.shape)\n",
        "rets.head()"
      ]
    },
    {
      "cell_type": "markdown",
      "metadata": {
        "id": "vyBtnCTUtfRq"
      },
      "source": [
        "Submit \"historical_returns.tsv\" in Gradescope."
      ]
    },
    {
      "cell_type": "markdown",
      "metadata": {
        "id": "MoCkf4ouV9IA"
      },
      "source": [
        "## Part 3: Estimate Returns\n",
        "\n",
        "Estimate the expected returns for each asset using the previously calculated return data.\n",
        "Just compute the average (mean) return for each asset over your data set; do not use other estimators that have been mentioned.\n",
        "This will serve as your estimate of expected return for each asset."
      ]
    },
    {
      "cell_type": "code",
      "execution_count": 5,
      "metadata": {
        "id": "N2iDEhSRxd2n"
      },
      "outputs": [],
      "source": [
        "# YOUR CHANGES HERE\n",
        "\n",
        "rets = pd.read_csv(\"historical_returns.tsv\", sep=\"\\t\", parse_dates=[\"date\"])\n",
        "tickers = [c for c in rets.columns if c != \"date\"]\n",
        "\n",
        "est_returns = pd.DataFrame({\n",
        "    \"asset\": tickers,\n",
        "    \"estimated_return\": rets[tickers].mean().values\n",
        "}).sort_values(\"asset\").reset_index(drop=True)"
      ]
    },
    {
      "cell_type": "markdown",
      "metadata": {
        "id": "e5YTEwoarM2M"
      },
      "source": [
        "Save the estimated returns in a TSV file named \"estimated_returns.tsv\" and include a header row with the column names \"asset\" and \"estimated_return\"."
      ]
    },
    {
      "cell_type": "code",
      "execution_count": 6,
      "metadata": {
        "id": "At71YDpwvwUw"
      },
      "outputs": [
        {
          "name": "stdout",
          "output_type": "stream",
          "text": [
            "Wrote estimated_returns.tsv\n"
          ]
        },
        {
          "data": {
            "text/html": [
              "<div>\n",
              "<style scoped>\n",
              "    .dataframe tbody tr th:only-of-type {\n",
              "        vertical-align: middle;\n",
              "    }\n",
              "\n",
              "    .dataframe tbody tr th {\n",
              "        vertical-align: top;\n",
              "    }\n",
              "\n",
              "    .dataframe thead th {\n",
              "        text-align: right;\n",
              "    }\n",
              "</style>\n",
              "<table border=\"1\" class=\"dataframe\">\n",
              "  <thead>\n",
              "    <tr style=\"text-align: right;\">\n",
              "      <th></th>\n",
              "      <th>asset</th>\n",
              "      <th>estimated_return</th>\n",
              "    </tr>\n",
              "  </thead>\n",
              "  <tbody>\n",
              "    <tr>\n",
              "      <th>0</th>\n",
              "      <td>AAPL</td>\n",
              "      <td>0.006385</td>\n",
              "    </tr>\n",
              "    <tr>\n",
              "      <th>1</th>\n",
              "      <td>AMZN</td>\n",
              "      <td>0.025579</td>\n",
              "    </tr>\n",
              "    <tr>\n",
              "      <th>2</th>\n",
              "      <td>GOOGL</td>\n",
              "      <td>0.017641</td>\n",
              "    </tr>\n",
              "    <tr>\n",
              "      <th>3</th>\n",
              "      <td>META</td>\n",
              "      <td>0.047035</td>\n",
              "    </tr>\n",
              "    <tr>\n",
              "      <th>4</th>\n",
              "      <td>MSFT</td>\n",
              "      <td>0.023842</td>\n",
              "    </tr>\n",
              "    <tr>\n",
              "      <th>5</th>\n",
              "      <td>NVDA</td>\n",
              "      <td>0.064383</td>\n",
              "    </tr>\n",
              "  </tbody>\n",
              "</table>\n",
              "</div>"
            ],
            "text/plain": [
              "   asset  estimated_return\n",
              "0   AAPL          0.006385\n",
              "1   AMZN          0.025579\n",
              "2  GOOGL          0.017641\n",
              "3   META          0.047035\n",
              "4   MSFT          0.023842\n",
              "5   NVDA          0.064383"
            ]
          },
          "execution_count": 6,
          "metadata": {},
          "output_type": "execute_result"
        }
      ],
      "source": [
        "# YOUR CHANGES HERE\n",
        "\n",
        "est_returns.to_csv(\"estimated_returns.tsv\", sep=\"\\t\", index=False)\n",
        "print(\"Wrote estimated_returns.tsv\")\n",
        "est_returns"
      ]
    },
    {
      "cell_type": "markdown",
      "metadata": {
        "id": "cjfnF-2Wtj6r"
      },
      "source": [
        "Submit \"estimated_returns.tsv\" in Gradescope."
      ]
    },
    {
      "cell_type": "markdown",
      "metadata": {
        "id": "VTuIqrkAWXVL"
      },
      "source": [
        "## Part 4: Estimate Risk\n",
        "\n",
        "Estimate the covariance matrix for the asset returns to understand how the assets move together."
      ]
    },
    {
      "cell_type": "code",
      "execution_count": 7,
      "metadata": {
        "id": "RFZfIkTMxcv7"
      },
      "outputs": [],
      "source": [
        "# YOUR CHANGES HERE\n",
        "\n",
        "import numpy as np\n",
        "\n",
        "rets = pd.read_csv(\"historical_returns.tsv\", sep=\"\\t\", parse_dates=[\"date\"])\n",
        "tickers = [c for c in rets.columns if c != \"date\"]\n",
        "\n",
        "cov = np.cov(rets[tickers].T, ddof=1)\n",
        "cov_df = (\n",
        "    pd.DataFrame(cov, index=tickers, columns=tickers)\n",
        "    .rename_axis(\"asset_i\")\n",
        "    .reset_index()\n",
        "    .melt(id_vars=\"asset_i\", var_name=\"asset_j\", value_name=\"covariance\")\n",
        ")"
      ]
    },
    {
      "cell_type": "markdown",
      "metadata": {
        "id": "sOmn4s_yr5qn"
      },
      "source": [
        "Save the estimated covariances to a TSV file named \"estimated_covariance.tsv\".\n",
        "The header row should have a blank column name followed by the names of the assets.\n",
        "Each data row should start with the name of an asset for that row, and be followed by the individual covariances corresponding to that row and column's assets.\n",
        "(This is the format of pandas's `to_csv` method with `sep=\"\\t\"` when used on a covariance matrix as computed in the examples.)"
      ]
    },
    {
      "cell_type": "code",
      "execution_count": 8,
      "metadata": {
        "id": "Te-NPQxSvuXm"
      },
      "outputs": [
        {
          "name": "stdout",
          "output_type": "stream",
          "text": [
            "Wrote estimated_covariance.tsv\n"
          ]
        },
        {
          "data": {
            "text/html": [
              "<div>\n",
              "<style scoped>\n",
              "    .dataframe tbody tr th:only-of-type {\n",
              "        vertical-align: middle;\n",
              "    }\n",
              "\n",
              "    .dataframe tbody tr th {\n",
              "        vertical-align: top;\n",
              "    }\n",
              "\n",
              "    .dataframe thead th {\n",
              "        text-align: right;\n",
              "    }\n",
              "</style>\n",
              "<table border=\"1\" class=\"dataframe\">\n",
              "  <thead>\n",
              "    <tr style=\"text-align: right;\">\n",
              "      <th></th>\n",
              "      <th>asset_i</th>\n",
              "      <th>asset_j</th>\n",
              "      <th>covariance</th>\n",
              "    </tr>\n",
              "  </thead>\n",
              "  <tbody>\n",
              "    <tr>\n",
              "      <th>0</th>\n",
              "      <td>AAPL</td>\n",
              "      <td>AAPL</td>\n",
              "      <td>0.003540</td>\n",
              "    </tr>\n",
              "    <tr>\n",
              "      <th>1</th>\n",
              "      <td>MSFT</td>\n",
              "      <td>AAPL</td>\n",
              "      <td>0.001019</td>\n",
              "    </tr>\n",
              "    <tr>\n",
              "      <th>2</th>\n",
              "      <td>GOOGL</td>\n",
              "      <td>AAPL</td>\n",
              "      <td>0.000595</td>\n",
              "    </tr>\n",
              "    <tr>\n",
              "      <th>3</th>\n",
              "      <td>AMZN</td>\n",
              "      <td>AAPL</td>\n",
              "      <td>0.001168</td>\n",
              "    </tr>\n",
              "    <tr>\n",
              "      <th>4</th>\n",
              "      <td>NVDA</td>\n",
              "      <td>AAPL</td>\n",
              "      <td>0.002231</td>\n",
              "    </tr>\n",
              "  </tbody>\n",
              "</table>\n",
              "</div>"
            ],
            "text/plain": [
              "  asset_i asset_j  covariance\n",
              "0    AAPL    AAPL    0.003540\n",
              "1    MSFT    AAPL    0.001019\n",
              "2   GOOGL    AAPL    0.000595\n",
              "3    AMZN    AAPL    0.001168\n",
              "4    NVDA    AAPL    0.002231"
            ]
          },
          "execution_count": 8,
          "metadata": {},
          "output_type": "execute_result"
        }
      ],
      "source": [
        "# YOUR CHANGES HERE\n",
        "\n",
        "cov_df.to_csv(\"estimated_covariance.tsv\", sep=\"\\t\", index=False)\n",
        "print(\"Wrote estimated_covariance.tsv\")\n",
        "cov_df.head()"
      ]
    },
    {
      "cell_type": "markdown",
      "metadata": {
        "id": "lS9vek0btoK6"
      },
      "source": [
        "Submit \"estimated_covariance.tsv\" in Gradescope."
      ]
    },
    {
      "cell_type": "markdown",
      "metadata": {
        "id": "C8rC5Eo3sEme"
      },
      "source": [
        "## Part 5: Construct the Maximum Return Portfolio\n",
        "\n",
        "Compute the maximum return portfolio based on your previously estimated risks and returns."
      ]
    },
    {
      "cell_type": "code",
      "execution_count": 9,
      "metadata": {
        "id": "8LW0KKm-xb2I"
      },
      "outputs": [],
      "source": [
        "# YOUR CHANGES HERE\n",
        "\n",
        "est = pd.read_csv(\"estimated_returns.tsv\", sep=\"\\t\")\n",
        "best_idx = est[\"estimated_return\"].idxmax()\n",
        "alloc = pd.Series(0.0, index=est[\"asset\"])\n",
        "alloc.iloc[best_idx] = 1.0"
      ]
    },
    {
      "cell_type": "markdown",
      "metadata": {
        "id": "jjPOxui5sLTD"
      },
      "source": [
        "Save the maximum return portfolio in a TSV file named \"maximum_return.tsv\".\n",
        "The header row should have two columns, \"asset\" and \"allocation\".\n",
        "The allocation values should sum up to one.\n"
      ]
    },
    {
      "cell_type": "code",
      "execution_count": 10,
      "metadata": {
        "id": "xLl_j8z1vtiT"
      },
      "outputs": [
        {
          "name": "stdout",
          "output_type": "stream",
          "text": [
            "Wrote maximum_return.tsv\n"
          ]
        },
        {
          "data": {
            "text/html": [
              "<div>\n",
              "<style scoped>\n",
              "    .dataframe tbody tr th:only-of-type {\n",
              "        vertical-align: middle;\n",
              "    }\n",
              "\n",
              "    .dataframe tbody tr th {\n",
              "        vertical-align: top;\n",
              "    }\n",
              "\n",
              "    .dataframe thead th {\n",
              "        text-align: right;\n",
              "    }\n",
              "</style>\n",
              "<table border=\"1\" class=\"dataframe\">\n",
              "  <thead>\n",
              "    <tr style=\"text-align: right;\">\n",
              "      <th></th>\n",
              "      <th>asset</th>\n",
              "      <th>allocation</th>\n",
              "    </tr>\n",
              "  </thead>\n",
              "  <tbody>\n",
              "    <tr>\n",
              "      <th>0</th>\n",
              "      <td>AAPL</td>\n",
              "      <td>0.0</td>\n",
              "    </tr>\n",
              "    <tr>\n",
              "      <th>1</th>\n",
              "      <td>AMZN</td>\n",
              "      <td>0.0</td>\n",
              "    </tr>\n",
              "    <tr>\n",
              "      <th>2</th>\n",
              "      <td>GOOGL</td>\n",
              "      <td>0.0</td>\n",
              "    </tr>\n",
              "    <tr>\n",
              "      <th>3</th>\n",
              "      <td>META</td>\n",
              "      <td>0.0</td>\n",
              "    </tr>\n",
              "    <tr>\n",
              "      <th>4</th>\n",
              "      <td>MSFT</td>\n",
              "      <td>0.0</td>\n",
              "    </tr>\n",
              "    <tr>\n",
              "      <th>5</th>\n",
              "      <td>NVDA</td>\n",
              "      <td>1.0</td>\n",
              "    </tr>\n",
              "  </tbody>\n",
              "</table>\n",
              "</div>"
            ],
            "text/plain": [
              "   asset  allocation\n",
              "0   AAPL         0.0\n",
              "1   AMZN         0.0\n",
              "2  GOOGL         0.0\n",
              "3   META         0.0\n",
              "4   MSFT         0.0\n",
              "5   NVDA         1.0"
            ]
          },
          "execution_count": 10,
          "metadata": {},
          "output_type": "execute_result"
        }
      ],
      "source": [
        "# YOUR CHANGES HERE\n",
        "\n",
        "maxret_df = pd.DataFrame({\"asset\": est[\"asset\"], \"allocation\": alloc.values})\n",
        "assert np.isclose(maxret_df[\"allocation\"].sum(), 1.0)\n",
        "maxret_df.to_csv(\"maximum_return.tsv\", sep=\"\\t\", index=False)\n",
        "print(\"Wrote maximum_return.tsv\")\n",
        "maxret_df"
      ]
    },
    {
      "cell_type": "markdown",
      "metadata": {
        "id": "4bm3xrxptqJ2"
      },
      "source": [
        "Submit \"maximum_return.tsv\" in Gradescope."
      ]
    },
    {
      "cell_type": "markdown",
      "metadata": {
        "id": "r_QxQ5NpsL-c"
      },
      "source": [
        "## Part 6: Construct the Minimum Risk Portfolio\n",
        "\n",
        "Compute the minimum risk portfolio based on your previously estimated risks."
      ]
    },
    {
      "cell_type": "code",
      "execution_count": 19,
      "metadata": {
        "id": "daHSqhv9xbIF"
      },
      "outputs": [],
      "source": [
        "# YOUR CHANGES HERE\n",
        "\n",
        "from scipy.optimize import minimize\n",
        "\n",
        "\n",
        "cov_df = pd.read_csv(\"estimated_covariance.tsv\", sep=\"\\t\")\n",
        "assets = sorted(cov_df[\"asset_i\"].unique().tolist())\n",
        "n = len(assets)\n",
        "Sigma = cov_df.pivot(index=\"asset_i\", columns=\"asset_j\", values=\"covariance\").loc[assets, assets].values\n",
        "\n",
        "def portfolio_variance(w, S):\n",
        "    return float(w @ S @ w)\n",
        "\n",
        "cons = [{\"type\":\"eq\", \"fun\": lambda w: np.sum(w) - 1.0}]\n",
        "bounds = [(0.0, 1.0)] * n\n",
        "w0 = np.full(n, 1.0/n)\n",
        "\n",
        "res = minimize(portfolio_variance, w0, args=(Sigma,), method=\"SLSQP\", bounds=bounds, constraints=cons)\n",
        "if not res.success:\n",
        "    raise RuntimeError(res.message)"
      ]
    },
    {
      "cell_type": "markdown",
      "metadata": {
        "id": "wzldkIPxsQor"
      },
      "source": [
        "Save the minimum risk portfolio in a TSV file named \"minimum_risk.tsv\".\n",
        "The header row should have two columns, \"asset\" and \"allocation\".\n",
        "The allocation values should sum up to one.\n"
      ]
    },
    {
      "cell_type": "code",
      "execution_count": 20,
      "metadata": {
        "id": "YRXccAflvrBZ"
      },
      "outputs": [
        {
          "name": "stdout",
          "output_type": "stream",
          "text": [
            "Wrote minimum_risk.tsv\n"
          ]
        },
        {
          "data": {
            "text/html": [
              "<div>\n",
              "<style scoped>\n",
              "    .dataframe tbody tr th:only-of-type {\n",
              "        vertical-align: middle;\n",
              "    }\n",
              "\n",
              "    .dataframe tbody tr th {\n",
              "        vertical-align: top;\n",
              "    }\n",
              "\n",
              "    .dataframe thead th {\n",
              "        text-align: right;\n",
              "    }\n",
              "</style>\n",
              "<table border=\"1\" class=\"dataframe\">\n",
              "  <thead>\n",
              "    <tr style=\"text-align: right;\">\n",
              "      <th></th>\n",
              "      <th>asset</th>\n",
              "      <th>allocation</th>\n",
              "    </tr>\n",
              "  </thead>\n",
              "  <tbody>\n",
              "    <tr>\n",
              "      <th>0</th>\n",
              "      <td>AAPL</td>\n",
              "      <td>4.206671e-01</td>\n",
              "    </tr>\n",
              "    <tr>\n",
              "      <th>1</th>\n",
              "      <td>AMZN</td>\n",
              "      <td>1.006495e-01</td>\n",
              "    </tr>\n",
              "    <tr>\n",
              "      <th>2</th>\n",
              "      <td>GOOGL</td>\n",
              "      <td>2.693734e-01</td>\n",
              "    </tr>\n",
              "    <tr>\n",
              "      <th>3</th>\n",
              "      <td>META</td>\n",
              "      <td>1.387779e-17</td>\n",
              "    </tr>\n",
              "    <tr>\n",
              "      <th>4</th>\n",
              "      <td>MSFT</td>\n",
              "      <td>2.093101e-01</td>\n",
              "    </tr>\n",
              "    <tr>\n",
              "      <th>5</th>\n",
              "      <td>NVDA</td>\n",
              "      <td>0.000000e+00</td>\n",
              "    </tr>\n",
              "  </tbody>\n",
              "</table>\n",
              "</div>"
            ],
            "text/plain": [
              "   asset    allocation\n",
              "0   AAPL  4.206671e-01\n",
              "1   AMZN  1.006495e-01\n",
              "2  GOOGL  2.693734e-01\n",
              "3   META  1.387779e-17\n",
              "4   MSFT  2.093101e-01\n",
              "5   NVDA  0.000000e+00"
            ]
          },
          "execution_count": 20,
          "metadata": {},
          "output_type": "execute_result"
        }
      ],
      "source": [
        "# YOUR CHANGES HERE\n",
        "\n",
        "w_minrisk = res.x / res.x.sum()\n",
        "minrisk_df = pd.DataFrame({\"asset\": assets, \"allocation\": w_minrisk})\n",
        "minrisk_df.to_csv(\"minimum_risk.tsv\", sep=\"\\t\", index=False)\n",
        "print(\"Wrote minimum_risk.tsv\")\n",
        "minrisk_df"
      ]
    },
    {
      "cell_type": "markdown",
      "metadata": {
        "id": "P5gy_XETtsoi"
      },
      "source": [
        "Submit \"minimum_risk.tsv\" in Gradescope."
      ]
    },
    {
      "cell_type": "markdown",
      "metadata": {
        "id": "mzyJGWDvWhva"
      },
      "source": [
        "## Part 7: Build Efficient Frontier Portfolios\n",
        "\n",
        "Compute 101 portfolios along the mean-variance efficient frontier with evenly spaced estimated returns.\n",
        "The first portfolio should be the minimum risk portfolio from part 4, and the last portfolio should be the maximum return portfolio from part 3.\n",
        "The estimated return of each portfolio should be higher than the previous by one percent of the difference between the first and last portfolios.\n",
        "That is, the estimated return of the portfolios should be similar to `np.linspace(min_risk_return, max_return, 101)`.\n"
      ]
    },
    {
      "cell_type": "code",
      "execution_count": 21,
      "metadata": {
        "id": "XaR6mKwvxZ4W"
      },
      "outputs": [],
      "source": [
        "# YOUR CHANGES HERE\n",
        "\n",
        "mu_df = pd.read_csv(\"estimated_returns.tsv\", sep=\"\\t\")\n",
        "assets = mu_df[\"asset\"].tolist()\n",
        "mu = mu_df.set_index(\"asset\")[\"estimated_return\"].loc[assets].values\n",
        "cov_df = pd.read_csv(\"estimated_covariance.tsv\", sep=\"\\t\")\n",
        "Sigma = cov_df.pivot(index=\"asset_i\", columns=\"asset_j\", values=\"covariance\").loc[assets, assets].values\n",
        "\n",
        "def solve_min_var_for_target(mu, Sigma, R_target):\n",
        "    n = len(mu)\n",
        "    def var_obj(w): return float(w @ Sigma @ w)\n",
        "    cons = [\n",
        "        {\"type\":\"eq\", \"fun\": lambda w: np.sum(w) - 1.0},\n",
        "        {\"type\":\"eq\", \"fun\": lambda w: float(mu @ w) - R_target},\n",
        "    ]\n",
        "    bounds = [(0.0, 1.0)] * n\n",
        "    w0 = np.full(n, 1.0/n)\n",
        "    res = minimize(var_obj, w0, method=\"SLSQP\", bounds=bounds, constraints=cons)\n",
        "    if not res.success:\n",
        "        raise RuntimeError(res.message)\n",
        "    return res.x / res.x.sum()\n",
        "\n",
        "minrisk_alloc = pd.read_csv(\"minimum_risk.tsv\", sep=\"\\t\").set_index(\"asset\").loc[assets][\"allocation\"].values\n",
        "maxret_alloc  = pd.read_csv(\"maximum_return.tsv\", sep=\"\\t\").set_index(\"asset\").loc[assets][\"allocation\"].values\n",
        "R_min, R_max = mu @ minrisk_alloc, mu @ maxret_alloc\n",
        "\n",
        "targets = np.linspace(R_min, R_max, 101)\n",
        "rows = []\n",
        "for k, R_tgt in enumerate(targets):\n",
        "    w = solve_min_var_for_target(mu, Sigma, R_tgt)\n",
        "    rows.append({\n",
        "        \"portfolio_id\": k,\n",
        "        \"target_return\": R_tgt,\n",
        "        \"realized_return\": float(mu @ w),\n",
        "        \"risk\": float(np.sqrt(w @ Sigma @ w)),\n",
        "        **{f\"alloc_{a}\": wi for a, wi in zip(assets, w)}\n",
        "    })"
      ]
    },
    {
      "cell_type": "markdown",
      "metadata": {
        "id": "8e3WwTJvsDzh"
      },
      "source": [
        "Save the portfolios in a TSV file named \"efficient_frontier.tsv\".\n",
        "The header row should have columns \"index\", \"return\", \"risk\", and all the asset tickers.\n",
        "Each data row should have the portfolio index (0-100), the estimated return of the portfolio, the estimated standard deviation (not variance) of the portfolio, and all the asset allocations (which should sum to one)."
      ]
    },
    {
      "cell_type": "code",
      "execution_count": 22,
      "metadata": {
        "id": "e9DKadyNvniT"
      },
      "outputs": [
        {
          "name": "stdout",
          "output_type": "stream",
          "text": [
            "Wrote efficient_frontier.tsv with shape: (101, 10)\n"
          ]
        },
        {
          "data": {
            "text/html": [
              "<div>\n",
              "<style scoped>\n",
              "    .dataframe tbody tr th:only-of-type {\n",
              "        vertical-align: middle;\n",
              "    }\n",
              "\n",
              "    .dataframe tbody tr th {\n",
              "        vertical-align: top;\n",
              "    }\n",
              "\n",
              "    .dataframe thead th {\n",
              "        text-align: right;\n",
              "    }\n",
              "</style>\n",
              "<table border=\"1\" class=\"dataframe\">\n",
              "  <thead>\n",
              "    <tr style=\"text-align: right;\">\n",
              "      <th></th>\n",
              "      <th>portfolio_id</th>\n",
              "      <th>target_return</th>\n",
              "      <th>realized_return</th>\n",
              "      <th>risk</th>\n",
              "      <th>alloc_AAPL</th>\n",
              "      <th>alloc_AMZN</th>\n",
              "      <th>alloc_GOOGL</th>\n",
              "      <th>alloc_META</th>\n",
              "      <th>alloc_MSFT</th>\n",
              "      <th>alloc_NVDA</th>\n",
              "    </tr>\n",
              "  </thead>\n",
              "  <tbody>\n",
              "    <tr>\n",
              "      <th>0</th>\n",
              "      <td>0</td>\n",
              "      <td>0.015003</td>\n",
              "      <td>0.015003</td>\n",
              "      <td>0.045916</td>\n",
              "      <td>0.427792</td>\n",
              "      <td>0.142367</td>\n",
              "      <td>0.261002</td>\n",
              "      <td>0.000000e+00</td>\n",
              "      <td>0.168838</td>\n",
              "      <td>5.551115e-17</td>\n",
              "    </tr>\n",
              "    <tr>\n",
              "      <th>1</th>\n",
              "      <td>1</td>\n",
              "      <td>0.015496</td>\n",
              "      <td>0.015496</td>\n",
              "      <td>0.046088</td>\n",
              "      <td>0.401634</td>\n",
              "      <td>0.158131</td>\n",
              "      <td>0.259428</td>\n",
              "      <td>0.000000e+00</td>\n",
              "      <td>0.180807</td>\n",
              "      <td>2.775558e-17</td>\n",
              "    </tr>\n",
              "    <tr>\n",
              "      <th>2</th>\n",
              "      <td>2</td>\n",
              "      <td>0.015990</td>\n",
              "      <td>0.015990</td>\n",
              "      <td>0.046336</td>\n",
              "      <td>0.375475</td>\n",
              "      <td>0.173894</td>\n",
              "      <td>0.257854</td>\n",
              "      <td>2.775558e-17</td>\n",
              "      <td>0.192777</td>\n",
              "      <td>0.000000e+00</td>\n",
              "    </tr>\n",
              "    <tr>\n",
              "      <th>3</th>\n",
              "      <td>3</td>\n",
              "      <td>0.016484</td>\n",
              "      <td>0.016484</td>\n",
              "      <td>0.045165</td>\n",
              "      <td>0.459895</td>\n",
              "      <td>0.000000</td>\n",
              "      <td>0.205507</td>\n",
              "      <td>8.386268e-02</td>\n",
              "      <td>0.250734</td>\n",
              "      <td>6.865894e-20</td>\n",
              "    </tr>\n",
              "    <tr>\n",
              "      <th>4</th>\n",
              "      <td>4</td>\n",
              "      <td>0.016978</td>\n",
              "      <td>0.016978</td>\n",
              "      <td>0.045258</td>\n",
              "      <td>0.448815</td>\n",
              "      <td>0.000000</td>\n",
              "      <td>0.204859</td>\n",
              "      <td>9.663985e-02</td>\n",
              "      <td>0.249687</td>\n",
              "      <td>0.000000e+00</td>\n",
              "    </tr>\n",
              "  </tbody>\n",
              "</table>\n",
              "</div>"
            ],
            "text/plain": [
              "   portfolio_id  target_return  realized_return      risk  alloc_AAPL  \\\n",
              "0             0       0.015003         0.015003  0.045916    0.427792   \n",
              "1             1       0.015496         0.015496  0.046088    0.401634   \n",
              "2             2       0.015990         0.015990  0.046336    0.375475   \n",
              "3             3       0.016484         0.016484  0.045165    0.459895   \n",
              "4             4       0.016978         0.016978  0.045258    0.448815   \n",
              "\n",
              "   alloc_AMZN  alloc_GOOGL    alloc_META  alloc_MSFT    alloc_NVDA  \n",
              "0    0.142367     0.261002  0.000000e+00    0.168838  5.551115e-17  \n",
              "1    0.158131     0.259428  0.000000e+00    0.180807  2.775558e-17  \n",
              "2    0.173894     0.257854  2.775558e-17    0.192777  0.000000e+00  \n",
              "3    0.000000     0.205507  8.386268e-02    0.250734  6.865894e-20  \n",
              "4    0.000000     0.204859  9.663985e-02    0.249687  0.000000e+00  "
            ]
          },
          "execution_count": 22,
          "metadata": {},
          "output_type": "execute_result"
        }
      ],
      "source": [
        "# YOUR CHANGES HERE\n",
        "\n",
        "ef = pd.DataFrame(rows)\n",
        "ef.to_csv(\"efficient_frontier.tsv\", sep=\"\\t\", index=False)\n",
        "print(\"Wrote efficient_frontier.tsv with shape:\", ef.shape)\n",
        "ef.head()"
      ]
    },
    {
      "cell_type": "markdown",
      "metadata": {
        "id": "jiOa06rItvbs"
      },
      "source": [
        "Submit \"efficient_frontier.tsv\" in Gradescope."
      ]
    },
    {
      "cell_type": "markdown",
      "metadata": {
        "id": "LoW0XBXAzzR6"
      },
      "source": [
        "## Part 8: Check Maximum Return Portfolio Stability\n",
        "\n",
        "Check the stability of the maximum return portfolio by resampling the estimated risk/return model.\n",
        "\n",
        "Repeat 1000 times -\n",
        "1. Use `np.random.multivariate_normal` to generate 23 return samples using your previously estimated risks and returns.\n",
        "2. Estimate the return of each asset using that resampled return history.\n",
        "3. Check which asset had the highest return in those resampled estimates.\n",
        "\n",
        "This procedure is a reduced and simplified version of the Michaud resampled efficient frontier procedure that takes uncertainty in the risk model into account."
      ]
    },
    {
      "cell_type": "code",
      "execution_count": 23,
      "metadata": {
        "id": "Xfke5V57xYvT"
      },
      "outputs": [],
      "source": [
        "# YOUR CHANGES HERE\n",
        "\n",
        "mu_df = pd.read_csv(\"estimated_returns.tsv\", sep=\"\\t\").set_index(\"asset\")\n",
        "cov_df = pd.read_csv(\"estimated_covariance.tsv\", sep=\"\\t\")\n",
        "assets = mu_df.index.tolist()\n",
        "Sigma = cov_df.pivot(index=\"asset_i\", columns=\"asset_j\", values=\"covariance\").loc[assets, assets].values\n",
        "mu = mu_df.loc[assets, \"estimated_return\"].values\n",
        "\n",
        "rng = np.random.default_rng(704)\n",
        "num_trials = 1000\n",
        "T = 23\n",
        "\n",
        "wins = dict.fromkeys(assets, 0)\n",
        "for _ in range(num_trials):\n",
        "    samples = rng.multivariate_normal(mean=mu, cov=Sigma, size=T)\n",
        "    means = samples.mean(axis=0)\n",
        "    winner = assets[int(np.argmax(means))]\n",
        "    wins[winner] += 1"
      ]
    },
    {
      "cell_type": "markdown",
      "metadata": {
        "id": "fes_ScDyz0jp"
      },
      "source": [
        "Save a file \"max_return_probabilities.tsv\" with the distribution of highest return assets.\n",
        "The header row should have columns \"asset\" and \"probability\".\n",
        "There should be a data row for each asset and its sample probability of having the highest return based on those 1000 resampled estimates.\n"
      ]
    },
    {
      "cell_type": "code",
      "execution_count": 24,
      "metadata": {
        "id": "ZAjr15ASvj1S"
      },
      "outputs": [
        {
          "name": "stdout",
          "output_type": "stream",
          "text": [
            "Wrote max_return_probabilities.tsv\n"
          ]
        },
        {
          "data": {
            "text/html": [
              "<div>\n",
              "<style scoped>\n",
              "    .dataframe tbody tr th:only-of-type {\n",
              "        vertical-align: middle;\n",
              "    }\n",
              "\n",
              "    .dataframe tbody tr th {\n",
              "        vertical-align: top;\n",
              "    }\n",
              "\n",
              "    .dataframe thead th {\n",
              "        text-align: right;\n",
              "    }\n",
              "</style>\n",
              "<table border=\"1\" class=\"dataframe\">\n",
              "  <thead>\n",
              "    <tr style=\"text-align: right;\">\n",
              "      <th></th>\n",
              "      <th>asset</th>\n",
              "      <th>probability</th>\n",
              "    </tr>\n",
              "  </thead>\n",
              "  <tbody>\n",
              "    <tr>\n",
              "      <th>0</th>\n",
              "      <td>AAPL</td>\n",
              "      <td>0.002</td>\n",
              "    </tr>\n",
              "    <tr>\n",
              "      <th>1</th>\n",
              "      <td>AMZN</td>\n",
              "      <td>0.007</td>\n",
              "    </tr>\n",
              "    <tr>\n",
              "      <th>2</th>\n",
              "      <td>GOOGL</td>\n",
              "      <td>0.012</td>\n",
              "    </tr>\n",
              "    <tr>\n",
              "      <th>3</th>\n",
              "      <td>META</td>\n",
              "      <td>0.196</td>\n",
              "    </tr>\n",
              "    <tr>\n",
              "      <th>4</th>\n",
              "      <td>MSFT</td>\n",
              "      <td>0.006</td>\n",
              "    </tr>\n",
              "    <tr>\n",
              "      <th>5</th>\n",
              "      <td>NVDA</td>\n",
              "      <td>0.777</td>\n",
              "    </tr>\n",
              "  </tbody>\n",
              "</table>\n",
              "</div>"
            ],
            "text/plain": [
              "   asset  probability\n",
              "0   AAPL        0.002\n",
              "1   AMZN        0.007\n",
              "2  GOOGL        0.012\n",
              "3   META        0.196\n",
              "4   MSFT        0.006\n",
              "5   NVDA        0.777"
            ]
          },
          "execution_count": 24,
          "metadata": {},
          "output_type": "execute_result"
        }
      ],
      "source": [
        "# YOUR CHANGES HERE\n",
        "\n",
        "probs = pd.DataFrame({\n",
        "    \"asset\": assets,\n",
        "    \"probability\": [wins[a]/num_trials for a in assets]\n",
        "})\n",
        "probs.to_csv(\"max_return_probabilities.tsv\", sep=\"\\t\", index=False)\n",
        "print(\"Wrote max_return_probabilities.tsv\")\n",
        "probs"
      ]
    },
    {
      "cell_type": "markdown",
      "metadata": {
        "id": "2Xd34FQ6txoj"
      },
      "source": [
        "Submit \"max_return_probabilities.tsv\" in Gradescope."
      ]
    },
    {
      "cell_type": "markdown",
      "metadata": {
        "id": "SYbJ21qUYvL_"
      },
      "source": [
        "## Part 9: Acknowledgments\n",
        "\n",
        "Make a file \"acknowledgments.txt\" documenting any outside sources or help on this project.\n",
        "If you discussed this assignment with anyone, please acknowledge them here.\n",
        "If you used any libraries not mentioned in this module's content, please list them with a brief explanation what you used them for.\n",
        "If you used any generative AI tools, please add links to your transcripts below, and any other information that you feel is necessary to comply with the generative AI policy.\n",
        "If no acknowledgements are appropriate, just write none in the file.\n"
      ]
    },
    {
      "cell_type": "markdown",
      "metadata": {
        "id": "H3oWYYHlt42V"
      },
      "source": [
        "Submit \"acknowledgements.txt\" in Gradescope."
      ]
    },
    {
      "cell_type": "markdown",
      "metadata": {
        "id": "b8FWiTjvwscA"
      },
      "source": [
        "## Part 10: Code\n",
        "\n",
        "Please submit a Jupyter notebook that can reproduce all your calculations and recreate the previously submitted files.\n",
        "You do not need to provide code for data collection if you did that by manually."
      ]
    },
    {
      "cell_type": "markdown",
      "metadata": {
        "id": "HDEYI-K8vcUW"
      },
      "source": [
        "Submit \"project.ipynb\" in Gradescope."
      ]
    }
  ],
  "metadata": {
    "colab": {
      "toc_visible": false
    },
    "kernelspec": {
      "display_name": "Python 3",
      "name": "python3"
    },
    "language_info": {
      "codemirror_mode": {
        "name": "ipython",
        "version": 3
      },
      "file_extension": ".py",
      "mimetype": "text/x-python",
      "name": "python",
      "nbconvert_exporter": "python",
      "pygments_lexer": "ipython3",
      "version": "3.12.1"
    }
  },
  "nbformat": 4,
  "nbformat_minor": 0
}
